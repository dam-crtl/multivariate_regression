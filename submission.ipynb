{
 "cells": [
  {
   "cell_type": "markdown",
   "id": "f4598b09-1080-4b92-a19f-5ab93696b651",
   "metadata": {},
   "source": [
    "# First Assingment of Pattern Recognition, Adv.\n",
    "### Masanori Tsutsumi\n"
   ]
  },
  {
   "cell_type": "markdown",
   "id": "cb4c20e2-d151-46ae-9d21-8f5b6137e42c",
   "metadata": {
    "tags": []
   },
   "source": [
    "## Introduction"
   ]
  },
  {
   "cell_type": "markdown",
   "id": "a8777d93-3442-435d-90f6-c896aeb129cd",
   "metadata": {},
   "source": [
    " I used Energey efficiency Data Set.  \n",
    " I could load this data from \"ENB2012_data.xlsx\". I found this dataset at UCI Machine Learning Repository(http://archive.ics.uci.edu/ml/index.php).\n",
    " The Energy Efficiency Dataset is the dataset on building energy efficiency that includes eight explanatory variables and two objective variables (heating and cooling loads). This dataset is mainly used to apply multivariate regression to predict building energy efficiency.\n",
    " \n",
    "This dataset consists of  \n",
    "Input variables:  \n",
    "X1 - Relative Compactness  \n",
    "X2 - Surface Area  \n",
    "X3 - Wall Area  \n",
    "X4 - Roof Area  \n",
    "X5 - Overall Height  \n",
    "X6 - Orientation  \n",
    "X7 - Glazing Area  \n",
    "X8 - Glazing Area Distribution  \n",
    "Output variables:  \n",
    "Y1 - Heating Load  \n",
    "Y2 - Cooling Load"
   ]
  },
  {
   "cell_type": "markdown",
   "id": "2b4a6616-f73c-4d1b-9659-9a78df7efae3",
   "metadata": {},
   "source": [
    "I predicted 'Heating Load' and 'Cooling Load' from 'Relative Compactness',\n",
    "'Surface Area', 'Wall Area', 'Roof Area', 'Overall Height', 'Orientation', 'Glazing Area' and 'Glazing Area Distribution'. \n",
    "First, I will use Linear Regression Model to predict Y1 and Y2. Then I will predict them by using Linear Basis Function Model with gussian basis function and grid search. Finally, I will discuss about the difference between these two models. compare these two results And I will focus on RMSE of the Linear Basis Function Model for each parameters."
   ]
  },
  {
   "cell_type": "markdown",
   "id": "2336850a-83d2-4831-92ca-a1bc9a903f87",
   "metadata": {},
   "source": [
    "In this report, I used random choice. But I set random seed when using it. So, the result of each cell is the same no matter how many times you run the cells."
   ]
  },
  {
   "cell_type": "markdown",
   "id": "28d7c97c-6420-4c05-955e-4d5ed96af858",
   "metadata": {},
   "source": [
    "## Methods"
   ]
  },
  {
   "cell_type": "code",
   "execution_count": 1,
   "id": "9ebd750c-f11f-4fc2-9eb4-b04159142c29",
   "metadata": {},
   "outputs": [],
   "source": [
    "import pandas as pd\n",
    "import matplotlib.pyplot as plt\n",
    "import numpy as np\n",
    "import math"
   ]
  },
  {
   "cell_type": "code",
   "execution_count": 2,
   "id": "d4779532-7181-4498-8c1e-78cc7bc8b604",
   "metadata": {},
   "outputs": [
    {
     "name": "stdout",
     "output_type": "stream",
     "text": [
      "     X1     X2     X3      X4   X5  X6   X7  X8     Y1     Y2\n",
      "0  0.98  514.5  294.0  110.25  7.0   2  0.0   0  15.55  21.33\n",
      "1  0.98  514.5  294.0  110.25  7.0   3  0.0   0  15.55  21.33\n",
      "2  0.98  514.5  294.0  110.25  7.0   4  0.0   0  15.55  21.33\n",
      "3  0.98  514.5  294.0  110.25  7.0   5  0.0   0  15.55  21.33\n",
      "4  0.90  563.5  318.5  122.50  7.0   2  0.0   0  20.84  28.28\n"
     ]
    }
   ],
   "source": [
    "df = pd.read_excel(\"ENB2012_data.xlsx\")\n",
    "print(df.head())"
   ]
  },
  {
   "cell_type": "markdown",
   "id": "c578c6f3-5105-477e-b4a3-13eea418e1e5",
   "metadata": {},
   "source": [
    "I loaded 'ENB2012_data.xlsx'. The five rows of this file are shown above."
   ]
  },
  {
   "cell_type": "code",
   "execution_count": 3,
   "id": "42e1adb1-4962-4cbe-8a98-5bd8e3a58073",
   "metadata": {},
   "outputs": [],
   "source": [
    "def shuffle_data(X, y):\n",
    "    np.random.seed(seed=32)\n",
    "    data_index = np.arange(X.shape[0])\n",
    "    np.random.shuffle(data_index)\n",
    "    return X[data_index], y[data_index]\n",
    "\n",
    "def train_test_split(X, y, test_ratio=0.2, shuffle=True):\n",
    "    if shuffle:\n",
    "        X, y = shuffle_data(X, y)\n",
    "    train_size = len(y) - int(len(y) * test_ratio)\n",
    "    X_train, X_test = X[:train_size], X[train_size:]\n",
    "    y_train, y_test = y[:train_size], y[train_size:]\n",
    "    return X_train, X_test, y_train, y_test"
   ]
  },
  {
   "cell_type": "markdown",
   "id": "2e5e5560-a3a0-4f62-9d2f-0e239bdb09f7",
   "metadata": {},
   "source": [
    "I defined \"train_test_split\" function in the cell above. I will use this function to split the given data into training data and test data at a ratio of 0.8 to 0.2. I will use the training dataset to train models and test dataset to evaluate the accuracy of prediction."
   ]
  },
  {
   "cell_type": "code",
   "execution_count": 4,
   "id": "2421ce9e-a8ec-4ac1-949b-18cc5e6af355",
   "metadata": {},
   "outputs": [],
   "source": [
    "X, y = df[['X1', 'X2', 'X3', 'X4', 'X5', 'X6', 'X7', 'X8']].values, df[['Y1', 'Y2']].values\n",
    "X_train, X_test, y_train, y_test = train_test_split(X, y)"
   ]
  },
  {
   "cell_type": "markdown",
   "id": "10afc8ac-00e3-4638-bda5-bb415329f8e7",
   "metadata": {},
   "source": [
    "I divided the data into training data and test data."
   ]
  },
  {
   "cell_type": "code",
   "execution_count": 5,
   "id": "9f14ce19-4929-4e5d-8721-a8eae3944d73",
   "metadata": {},
   "outputs": [],
   "source": [
    "def multi_rmse(y_true, y_pred):\n",
    "    mse = np.mean((y_true - y_pred)**2, axis=0)\n",
    "    rmse = np.sqrt(mse)\n",
    "    avg_rmse = np.mean(rmse)\n",
    "    return round(avg_rmse, 4)"
   ]
  },
  {
   "cell_type": "markdown",
   "id": "c4f10a45-107e-4695-b761-e3dd06fc0a83",
   "metadata": {},
   "source": [
    "I defined Root Mean Square Error(RMSE) function to evaluate how accurately the model fit to the datasets.  \n",
    "Here, considering these kind of samples,\n",
    "\n",
    "$$\n",
    "\\begin{equation*}\n",
    "\\text{input} : \\textbf{x}_i = (x_{i1}, x_{i2},...,x_{iD}) (i = 1, 2,...,N)\\\\\n",
    "\\text{the number of samples} : N\\\\\n",
    "\\text{output} : \\textbf{t}_i = (t_{i1}, t_{i2},...,t_{ip}) (i = 1, 2,...,N)\\\\\n",
    "\\end{equation*}\n",
    "$$\n",
    "RMSE for multiple output can calculated as\n",
    "$$\n",
    "\\text{RMSE} = \\frac{1}{p} \\sum_{i=1}^{p} \\sqrt{\\frac{1}{N} \\sum_{j=1}^{N}(\\hat{t}_{ji} - t_{ji})^2}\n",
    "$$\n",
    "First, I will predict the target variables by using Linear Regression Model.  \n",
    "when the design matrix $X$ and target variables $\\textbf{t}$ are  \n",
    "$$\n",
    "     X = \\begin{pmatrix}\\\n",
    "1 & x_{11} & x_{12} & \\cdots & x_{1D}\\\\\n",
    "1 & x_{21} & x_{22} & \\cdots & x_{2D}\\\\\n",
    "\\vdots & & \\ddots & \\vdots\\\\\n",
    "1& x_{N1} & x_{N2} & \\cdots & x_{ND}\\\\\n",
    "\\end{pmatrix}, \n",
    "\\begin{equation*}\n",
    "\\textbf{t} = \\begin{pmatrix}\n",
    "t_{11} & t_{12} & \\cdots & t_{1p}\\\\\n",
    "t_{21} & t_{22} & \\cdots & t_{2p}\\\\\n",
    "\\vdots & & \\ddots & \\vdots\\\\\n",
    "t_{N1} & t_{N2} & \\cdots & t_{Np}\\\\\n",
    "\\end{pmatrix}\\\\\n",
    "\\end{equation*}\n",
    "$$\n",
    "We can find the optimized weights of Linear Regression Models $W^*$  \n",
    "$$\n",
    "W^* = (X^T X)^{-1}X^T \\textbf{t}\n",
    "$$ \n",
    "Then, predicted target objectives $\\hat{\\textbf{t}}$ is calculated.\n",
    "$$\n",
    "\\hat{\\textbf{t}} = XW^*\n",
    "$$ "
   ]
  },
  {
   "cell_type": "code",
   "execution_count": 6,
   "id": "96ef17ec-8009-46bf-96a9-38d2a9ca5194",
   "metadata": {},
   "outputs": [],
   "source": [
    "class MultivariateLinearRegressionModel:\n",
    "    def __init__(self):\n",
    "        self.weights = None\n",
    "    \n",
    "    def fit(self, X, y):\n",
    "        X_hat = np.concatenate((np.ones((len(X), 1)), X), axis = 1)\n",
    "        self.weights = np.linalg.inv(X_hat.T @ X_hat) @ X_hat.T @ y\n",
    "\n",
    "    def predict(self, X):\n",
    "        X_hat2 = np.concatenate((np.ones((len(X), 1)), X), axis = 1)\n",
    "        y_pred =  X_hat2 @ self.weights\n",
    "        return y_pred"
   ]
  },
  {
   "cell_type": "markdown",
   "id": "5eee7254-fe6d-4a20-84ba-ef2e3c26e079",
   "metadata": {},
   "source": [
    "I implemented MaltivariateLinearRegressionModel class.\n",
    "First, I will predict the target variables by using it.  \n",
    "After that, I will use Linear Basis Function Model with gaussian basis function."
   ]
  },
  {
   "cell_type": "code",
   "execution_count": 7,
   "id": "42095340-f4a7-4844-ad00-3d4eaf8790bd",
   "metadata": {},
   "outputs": [],
   "source": [
    "def gaussian_basis_function(x, mu, s):\n",
    "    return np.exp(-np.sum((x - mu)**2)/(2*s**2))"
   ]
  },
  {
   "cell_type": "markdown",
   "id": "073c2a2e-cb9e-430d-b269-5f16800ff6f1",
   "metadata": {},
   "source": [
    "gaussian basis function\n",
    "$$\n",
    "\\phi_j(x)=\\exp\\left(-\\frac{||x-\\mu_j||_2^2}{2s_j^2}\\right)\n",
    "$$\n",
    "here  \n",
    "$x$ : input (vector)  \n",
    "$\\mu_j$ : mean (vector)  \n",
    "$s_j$ : standard deviation (scaler)"
   ]
  },
  {
   "cell_type": "markdown",
   "id": "832bb869-8458-4911-8a7f-5364588003cc",
   "metadata": {},
   "source": [
    "I will use gaussian basis function for Linear Basis Function Model. The inputs are the observation, mean values and standard deviation."
   ]
  },
  {
   "cell_type": "code",
   "execution_count": 8,
   "id": "7a0b0ba2-3251-40e4-a7c9-67c94c0c2534",
   "metadata": {},
   "outputs": [],
   "source": [
    "num_basis_functions = 4"
   ]
  },
  {
   "cell_type": "code",
   "execution_count": 9,
   "id": "fd0ca089-30b6-46b7-bde3-5da3d2da3c35",
   "metadata": {
    "tags": []
   },
   "outputs": [],
   "source": [
    "class LinearBasisFunctionModel:\n",
    "    def __init__(self, basis_function, num_basis_functions, mu, s):\n",
    "        self.basis_function = basis_function\n",
    "        self.num_basis_functions = num_basis_functions\n",
    "        self.mu = mu\n",
    "        self.s = s\n",
    "        self.weights = None\n",
    "\n",
    "    def fit(self, X, y):\n",
    "        design_matrix = np.ones((len(X), self.num_basis_functions + 1))\n",
    "        for i in range(self.num_basis_functions):\n",
    "            for j in range(len(X)):\n",
    "                design_matrix[j, i + 1] = np.array(self.basis_function(X[j], self.mu[i], self.s[i]))\n",
    "        self.weights = np.linalg.inv(design_matrix.T @ design_matrix) @ design_matrix.T @ y\n",
    "        \n",
    "    def predict(self, X):\n",
    "        y_pred = np.empty((len(X), 2))\n",
    "        for i in range(len(X)):\n",
    "            y_pred[i] = self.weights[0] + sum(self.weights[j + 1] * self.basis_function(X[i], self.mu[j], self.s[j]) for j in range(self.num_basis_functions))\n",
    "        return y_pred"
   ]
  },
  {
   "cell_type": "markdown",
   "id": "2cf5634e-c2d5-4dec-a39d-926e4dbce100",
   "metadata": {},
   "source": [
    "In the cell above, I coded LinearBasisFunctionModel class.  \n",
    "The initial inputs are basis function, the number of basis functions, the matrix of the mean set and the vector of standard deviation set which is used to calculate basis functions.  \n",
    "To find the weights $W^*$, I used the design matrix as $\\Phi$.  \n",
    "$$\\Phi = \\begin{pmatrix}\n",
    "\\phi_{0}(x_1) & \\phi_{1}(x_1) & \\cdots & \\phi_{M-1}(x_1)\\\\\n",
    "\\phi_{0}(x_2) & \\phi_{1}(x_2) & \\cdots & \\phi_{M-1}(x_2)\\\\\n",
    "\\vdots & & \\ddots & \\vdots\\\\\n",
    "\\phi_{0}(x_N) & \\phi_{1}(x_N) & \\cdots & \\phi_{M-1}(x_N)\\\\\n",
    "\\end{pmatrix}\\\\\n",
    "\\phi_{0}(x_i) = 1, (i = 1, 2,..., N)\n",
    "$$\n",
    "\n",
    "\n",
    "In this report, I will fix $M$ to 5.  \n",
    "Let $\\textbf{t}$ be the target variable.  \n",
    "when optimizing weights, the calculation is like the following equation.\n",
    "\n",
    "$$\n",
    "\\begin{equation*}\n",
    "W^* = (\\Phi^T\\Phi)^{-1}\\Phi^T \\textbf{t}\n",
    "\\end{equation*}\n",
    "$$\n",
    "\n",
    "\n",
    "By using calculated weights $W^*$, I will predict Y1 and Y2."
   ]
  },
  {
   "cell_type": "markdown",
   "id": "856b65e1-2753-4d0c-af2d-6eba7d610df4",
   "metadata": {},
   "source": [
    "When using Gaussian Basis Function, I have to decide the values of mu and s. In this report, I will generate three types of mu matrices which is composed of the randomly chosen integers between 10 and 100. And I also generate three types of s vectors."
   ]
  },
  {
   "cell_type": "code",
   "execution_count": 10,
   "id": "68674329-7bb8-49b8-a254-5dff278fdfc9",
   "metadata": {},
   "outputs": [
    {
     "name": "stdout",
     "output_type": "stream",
     "text": [
      "mu[0] = [[38 21 23 33 96 38 42 79]\n",
      " [21 45 43 15 26 21 64 56]\n",
      " [52 71 55 89 64 86 73 49]\n",
      " [32 81 49 17 73 30 44 53]]\n",
      "mu[1] = [[88 94 84 74 69 73 75 92]\n",
      " [16 35 96 25 95 36 10 48]\n",
      " [40 59 19 97 27 84 35 99]\n",
      " [20 23 75 56 69 22 30 85]]\n",
      "mu[2] = [[52 19 26 32 22 38 77 65]\n",
      " [58 40 71 42 83 87 59 69]\n",
      " [67 65 69 69 64 55 17 94]\n",
      " [17 42 27 22 24 40 23 46]]\n"
     ]
    }
   ],
   "source": [
    "np.random.seed(52)\n",
    "mu = np.array([np.random.randint(10, 100, 8 * 4 * 3)]).reshape(3, 4, 8)\n",
    "for i in range(len(mu)):\n",
    "    print(\"mu[{0}] = {1}\".format(i, mu[i]))"
   ]
  },
  {
   "cell_type": "markdown",
   "id": "bb693ac4-ccd7-4700-91c1-8ce9ef75d585",
   "metadata": {},
   "source": [
    "I will use these three types of mu for grid search. Then I will generate the candidates of stadard deviation s. I will create an array with as many elements as the number of basis functions with a positive integer as the first term and common difference for each candidate. This time, I choosed 30, 40, 50 as the candidates of the positive integer and they are correspond to s[0], s[1], s[2], respectively."
   ]
  },
  {
   "cell_type": "code",
   "execution_count": 11,
   "id": "30d6a27d-bd12-40f2-b6bf-4f7d6bbde876",
   "metadata": {},
   "outputs": [
    {
     "name": "stdout",
     "output_type": "stream",
     "text": [
      "s[0]=[ 30.  60.  90. 120.]\n",
      "s[1]=[ 40.  80. 120. 160.]\n",
      "s[2]=[ 50. 100. 150. 200.]\n"
     ]
    }
   ],
   "source": [
    "s = np.empty((3, 4))\n",
    "l = [30, 40, 50]\n",
    "for i in range(len(l)):\n",
    "    s[i] = np.array([j * l[i] for j in range(1, num_basis_functions+1)])\n",
    "    print('s[{0}]={1}'.format(i, s[i]))"
   ]
  },
  {
   "cell_type": "markdown",
   "id": "a8e05ae9-40c9-4671-aa91-e5186dfe6658",
   "metadata": {},
   "source": [
    "I created the candidates of standard deviation set.\n",
    "I will also use these three types of s and do a grid search on mu and s.\n",
    "Then I will calculate RMSE and compare the best RSME of Linear Basis Function Model with that of Linear Regression Model."
   ]
  },
  {
   "cell_type": "markdown",
   "id": "1643517e-1c9b-47df-ba3d-95725d4934e6",
   "metadata": {},
   "source": [
    "## Experiment"
   ]
  },
  {
   "cell_type": "markdown",
   "id": "7b8f9932-cdd5-4741-a89c-6ab5d23089ac",
   "metadata": {},
   "source": [
    "First, I will predict Y1 and Y2 by using Linear Regression Model."
   ]
  },
  {
   "cell_type": "code",
   "execution_count": 12,
   "id": "09b3ecff-5bb4-481a-ba7b-2af0b1869be0",
   "metadata": {},
   "outputs": [
    {
     "name": "stdout",
     "output_type": "stream",
     "text": [
      "RSME: 66.7359\n"
     ]
    }
   ],
   "source": [
    "linear_model = MultivariateLinearRegressionModel()\n",
    "linear_model.fit(X_train, y_train)\n",
    "y_pred = linear_model.predict(X_test)\n",
    "print('RSME: {}'.format(multi_rmse(y_pred, y_test)))"
   ]
  },
  {
   "cell_type": "markdown",
   "id": "889b7bf9-8541-426a-829c-ae42eeed7198",
   "metadata": {},
   "source": [
    "Second, I will predict Y1 and Y2 by using Linear Regression Model and grid search."
   ]
  },
  {
   "cell_type": "code",
   "execution_count": 13,
   "id": "d3a5a663-edb0-40b8-b8fe-7eefe5b061d8",
   "metadata": {},
   "outputs": [
    {
     "name": "stdout",
     "output_type": "stream",
     "text": [
      "RSME (mu[0], s[0]): 8.1959\n",
      "RSME (mu[0], s[1]): 7.1318\n",
      "RSME (mu[0], s[2]): 6.7866\n",
      "RSME (mu[1], s[0]): 7.9594\n",
      "RSME (mu[1], s[1]): 6.8672\n",
      "RSME (mu[1], s[2]): 6.3965\n",
      "RSME (mu[2], s[0]): 8.2712\n",
      "RSME (mu[2], s[1]): 7.4553\n",
      "RSME (mu[2], s[2]): 7.1126\n",
      "the lowest RMSE is 6.3965\n",
      "the highest RMSE is 8.2712\n"
     ]
    }
   ],
   "source": [
    "l = []\n",
    "for i in range(mu.shape[0]):\n",
    "    for j in range(s.shape[0]):\n",
    "        model_gaussian = LinearBasisFunctionModel(gaussian_basis_function, num_basis_functions, mu[i], s[j])\n",
    "        model_gaussian.fit(X_train, y_train)\n",
    "        y_pred = model_gaussian.predict(X_test)\n",
    "        print('RSME (mu[{0}], s[{1}]): {2}'.format(i, j, multi_rmse(y_pred, y_test)))\n",
    "        l.append(multi_rmse(y_pred, y_test))\n",
    "\n",
    "print('the lowest RMSE is {}'.format(min(l)))\n",
    "print('the highest RMSE is {}'.format(max(l)))"
   ]
  },
  {
   "cell_type": "markdown",
   "id": "e78b1ede-120d-48f1-8e88-cccbd2106b0d",
   "metadata": {},
   "source": [
    "## Disscusion"
   ]
  },
  {
   "cell_type": "markdown",
   "id": "c15e880b-098f-40b9-9af7-881deb6f026c",
   "metadata": {},
   "source": [
    "#### RMSE of Linear Basis Function Model vs. RMSE of Linear Regression Model"
   ]
  },
  {
   "cell_type": "markdown",
   "id": "ec9cb759-064c-4e6b-97bc-c527fca4fafc",
   "metadata": {},
   "source": [
    " Accoding to the experiment, the lowest RMSE of Linear Basis Regression was 6.3965. I will consider this value as the RMSE of gaussian-based Linear Basis Regression. And the RMSE of Linear Regression Model was 66.7359.  \n",
    " When comparing the RMSE of Linear Regression Model and Linear Basis Regression Model, the RMSE of Linear Basis Function Model is much lower than that of Linear Regression Model. Even when considering the highest RMSE of Linear Basis Regression Model, the value is 8.2712. So, it can be said that Linear Basis Regression Model fits better than Linear Regression Model."
   ]
  },
  {
   "cell_type": "markdown",
   "id": "70081ed8-3026-4091-92d5-bb1ddbed112f",
   "metadata": {},
   "source": [
    "#### Differences in RMSE based on differences in standard deviation of linear basis function models using Gaussian basis functions"
   ]
  },
  {
   "cell_type": "markdown",
   "id": "175fa74a-2734-4703-9b95-621772cbcaa7",
   "metadata": {},
   "source": [
    "Next I will focus on RSME values of Linear Basis Fucntion Model. I did a grid search, so I will compare the RMSE of each condition."
   ]
  },
  {
   "cell_type": "code",
   "execution_count": 14,
   "id": "afa10653-bc66-4581-a006-35f61932bb31",
   "metadata": {},
   "outputs": [
    {
     "data": {
      "image/png": "[encoded data removed]",
      "text/plain": [
       "<Figure size 432x288 with 1 Axes>"
      ]
     },
     "metadata": {
      "needs_background": "light"
     },
     "output_type": "display_data"
    }
   ],
   "source": [
    "data = np.array(l).reshape(3, 3).T\n",
    "num_sample = data.shape[0]\n",
    "num_item_per_sample = data.shape[1]\n",
    "\n",
    "width = 0.15\n",
    "margin = 0.25\n",
    "block = width * num_sample + margin\n",
    "ind = np.arange(num_item_per_sample) * block\n",
    "xlabels = [\"mu[0]\", \"mu[1]\", \"mu[2]\"]\n",
    "legendary_labels = [\"s[0]\", \"s[1]\", \"s[2]\"]\n",
    "colors = [\"red\", \"green\", \"blue\"]\n",
    "\n",
    "for i in range(num_sample):\n",
    "    plt.bar(ind + width * i, data[i], width, color=colors[i], label=legendary_labels[i])\n",
    "\n",
    "xlocs = ind + width * num_sample / 2.\n",
    "plt.xticks(xlocs, xlabels)\n",
    "plt.xlim(-margin, ind[-1] + width * num_sample + margin)\n",
    "plt.ylim(0, 14)\n",
    "plt.ylabel('RSME')\n",
    "plt.title('RSME of each mu matrix and s vector')\n",
    "plt.legend(prop={'size' : 12},loc=\"upper right\")\n",
    "plt.grid(True)"
   ]
  },
  {
   "cell_type": "markdown",
   "id": "8ccb9a94-f0e7-4e43-aded-f7742a8e7c03",
   "metadata": {},
   "source": [
    "The figure above shows that the values of RSME decrease as the integer of the first term of s vector bacomes big in all mu. From this fact, it is assumed that setting the parameter of standard deviation of gaussian basis function big is better for fitting."
   ]
  },
  {
   "cell_type": "markdown",
   "id": "35ef5696-74f3-4706-b939-5046ec072d14",
   "metadata": {},
   "source": [
    "## conclusion"
   ]
  },
  {
   "cell_type": "markdown",
   "id": "c4116fd9-1949-4fd9-a1a0-efb6bd7a57c7",
   "metadata": {},
   "source": [
    "In this report, I compared the RMSE of the Linear Regression Model with that of Linear Basis Function Model with gaussian basis function by using \"Energey efficiency Data Set\".\n",
    "The above experiment and discussion revealed the following\n",
    "* Linear Basis Function Regression with gaussian basis functions fits better than Linear Regression Model.\n",
    "* In this dataset, it may be better to set the parameters of standard deviation of gaussian basis function big when using Linear Basis Function Model with gaussian basis function."
   ]
  },
  {
   "cell_type": "markdown",
   "id": "ed9b4e27-1ce7-44c2-904e-f7b334b52b49",
   "metadata": {},
   "source": [
    "## reference"
   ]
  },
  {
   "cell_type": "markdown",
   "id": "e23827f8-505f-4ebf-8753-842429c49310",
   "metadata": {},
   "source": [
    "1. \"Understanding Gaussian Basis function parameters to be used in linear regression\", Cross Validated, url: https://stats.stackexchange.com/questions/117556/understanding-gaussian-basis-function-parameters-to-be-used-in-linear-regression/120126#120126, May, 9, 2023 "
   ]
  }
 ],
 "metadata": {
  "kernelspec": {
   "display_name": "Python 3 (ipykernel)",
   "language": "python",
   "name": "python3"
  },
  "language_info": {
   "codemirror_mode": {
    "name": "ipython",
    "version": 3
   },
   "file_extension": ".py",
   "mimetype": "text/x-python",
   "name": "python",
   "nbconvert_exporter": "python",
   "pygments_lexer": "ipython3",
   "version": "3.9.12"
  }
 },
 "nbformat": 4,
 "nbformat_minor": 5
}
